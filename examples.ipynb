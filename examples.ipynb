{
 "cells": [
  {
   "attachments": {},
   "cell_type": "markdown",
   "metadata": {},
   "source": [
    "<h1>Some sample Data analysis code<h1>"
   ]
  },
  {
   "cell_type": "code",
   "execution_count": 2,
   "metadata": {},
   "outputs": [],
   "source": [
    "import numpy as np"
   ]
  },
  {
   "attachments": {},
   "cell_type": "markdown",
   "metadata": {},
   "source": [
    "<p>Some generated values</p>"
   ]
  },
  {
   "cell_type": "code",
   "execution_count": 3,
   "metadata": {},
   "outputs": [],
   "source": [
    "# Set the random seed to make the examples reproducible\n",
    "np.random.seed(0)"
   ]
  },
  {
   "cell_type": "code",
   "execution_count": 4,
   "metadata": {},
   "outputs": [],
   "source": [
    "# An array with a million parameters\n",
    "m = np.random.randint(10, size=1000000)\n",
    "\n",
    "def standard_double(array):\n",
    "    output = np.empty(array.size)\n",
    "    for i in range(array.size):\n",
    "        output[i] = array[i] * 2\n",
    "        \n",
    "    return output"
   ]
  },
  {
   "cell_type": "code",
   "execution_count": 5,
   "metadata": {},
   "outputs": [
    {
     "data": {
      "text/plain": [
       "array([5, 7, 9])"
      ]
     },
     "execution_count": 5,
     "metadata": {},
     "output_type": "execute_result"
    }
   ],
   "source": [
    "np.array([1,2,3]) + np.array([4,5,6])"
   ]
  },
  {
   "cell_type": "code",
   "execution_count": 8,
   "metadata": {},
   "outputs": [
    {
     "data": {
      "text/plain": [
       "array([[1., 1., 1., 1.]])"
      ]
     },
     "execution_count": 8,
     "metadata": {},
     "output_type": "execute_result"
    }
   ],
   "source": [
    "a3 = np.ones([1, 4])\n",
    "a3"
   ]
  },
  {
   "cell_type": "code",
   "execution_count": 12,
   "metadata": {},
   "outputs": [
    {
     "data": {
      "text/plain": [
       "4.5"
      ]
     },
     "execution_count": 12,
     "metadata": {},
     "output_type": "execute_result"
    }
   ],
   "source": [
    "np.arange(10).mean()"
   ]
  },
  {
   "cell_type": "code",
   "execution_count": 11,
   "metadata": {},
   "outputs": [
    {
     "data": {
      "text/plain": [
       "16.0"
      ]
     },
     "execution_count": 11,
     "metadata": {},
     "output_type": "execute_result"
    }
   ],
   "source": [
    "np.ones((4,4)).sum()"
   ]
  },
  {
   "cell_type": "markdown",
   "metadata": {},
   "source": [
    "<h3>Some Pandas Code</h3>"
   ]
  },
  {
   "cell_type": "code",
   "execution_count": 14,
   "metadata": {},
   "outputs": [],
   "source": [
    "import pandas as pd"
   ]
  },
  {
   "cell_type": "code",
   "execution_count": 16,
   "metadata": {},
   "outputs": [
    {
     "data": {
      "text/plain": [
       "0    1\n",
       "1    2\n",
       "2    3\n",
       "3    4\n",
       "4    5\n",
       "dtype: int64"
      ]
     },
     "execution_count": 16,
     "metadata": {},
     "output_type": "execute_result"
    }
   ],
   "source": [
    "s = pd.Series([1,2,3,4,5])\n",
    "s"
   ]
  },
  {
   "cell_type": "code",
   "execution_count": 17,
   "metadata": {},
   "outputs": [
    {
     "data": {
      "text/plain": [
       "1"
      ]
     },
     "execution_count": 17,
     "metadata": {},
     "output_type": "execute_result"
    }
   ],
   "source": [
    "s[0]"
   ]
  },
  {
   "cell_type": "code",
   "execution_count": 18,
   "metadata": {},
   "outputs": [
    {
     "data": {
      "text/plain": [
       "RangeIndex(start=0, stop=5, step=1)"
      ]
     },
     "execution_count": 18,
     "metadata": {},
     "output_type": "execute_result"
    }
   ],
   "source": [
    "s.index"
   ]
  },
  {
   "cell_type": "code",
   "execution_count": 20,
   "metadata": {},
   "outputs": [],
   "source": [
    "paid = {\n",
    "    \"Louvre Museum\": 5988065,\n",
    "    \"Orsay Museum\": 1850092,\n",
    "    \"Pompidou Centre\": 2620481,\n",
    "    \"National Natural History Museum\": 404497\n",
    "}\n",
    "\n",
    "free = {\n",
    "    \"Louvre Museum\": 4117897,\n",
    "    \"Orsay Museum\": 1436132,\n",
    "    \"Pompidou Centre\": 1070337,\n",
    "    \"National Natural History Museum\": 344572\n",
    "}"
   ]
  },
  {
   "cell_type": "code",
   "execution_count": 22,
   "metadata": {},
   "outputs": [
    {
     "data": {
      "text/html": [
       "<div>\n",
       "<style scoped>\n",
       "    .dataframe tbody tr th:only-of-type {\n",
       "        vertical-align: middle;\n",
       "    }\n",
       "\n",
       "    .dataframe tbody tr th {\n",
       "        vertical-align: top;\n",
       "    }\n",
       "\n",
       "    .dataframe thead th {\n",
       "        text-align: right;\n",
       "    }\n",
       "</style>\n",
       "<table border=\"1\" class=\"dataframe\">\n",
       "  <thead>\n",
       "    <tr style=\"text-align: right;\">\n",
       "      <th></th>\n",
       "      <th>paid</th>\n",
       "      <th>free</th>\n",
       "    </tr>\n",
       "  </thead>\n",
       "  <tbody>\n",
       "    <tr>\n",
       "      <th>Louvre Museum</th>\n",
       "      <td>5988065</td>\n",
       "      <td>4117897</td>\n",
       "    </tr>\n",
       "    <tr>\n",
       "      <th>Orsay Museum</th>\n",
       "      <td>1850092</td>\n",
       "      <td>1436132</td>\n",
       "    </tr>\n",
       "    <tr>\n",
       "      <th>Pompidou Centre</th>\n",
       "      <td>2620481</td>\n",
       "      <td>1070337</td>\n",
       "    </tr>\n",
       "    <tr>\n",
       "      <th>National Natural History Museum</th>\n",
       "      <td>404497</td>\n",
       "      <td>344572</td>\n",
       "    </tr>\n",
       "  </tbody>\n",
       "</table>\n",
       "</div>"
      ],
      "text/plain": [
       "                                    paid     free\n",
       "Louvre Museum                    5988065  4117897\n",
       "Orsay Museum                     1850092  1436132\n",
       "Pompidou Centre                  2620481  1070337\n",
       "National Natural History Museum   404497   344572"
      ]
     },
     "execution_count": 22,
     "metadata": {},
     "output_type": "execute_result"
    }
   ],
   "source": [
    "museum = pd.DataFrame({\"paid\": paid, \"free\": free})\n",
    "museum"
   ]
  },
  {
   "cell_type": "code",
   "execution_count": 25,
   "metadata": {},
   "outputs": [
    {
     "data": {
      "text/plain": [
       "Louvre Museum                      5988065\n",
       "Orsay Museum                       1850092\n",
       "Pompidou Centre                    2620481\n",
       "National Natural History Museum     404497\n",
       "Name: paid, dtype: int64"
      ]
     },
     "execution_count": 25,
     "metadata": {},
     "output_type": "execute_result"
    }
   ],
   "source": [
    "museum[\"paid\"]"
   ]
  },
  {
   "cell_type": "code",
   "execution_count": 26,
   "metadata": {},
   "outputs": [
    {
     "data": {
      "text/html": [
       "<div>\n",
       "<style scoped>\n",
       "    .dataframe tbody tr th:only-of-type {\n",
       "        vertical-align: middle;\n",
       "    }\n",
       "\n",
       "    .dataframe tbody tr th {\n",
       "        vertical-align: top;\n",
       "    }\n",
       "\n",
       "    .dataframe thead th {\n",
       "        text-align: right;\n",
       "    }\n",
       "</style>\n",
       "<table border=\"1\" class=\"dataframe\">\n",
       "  <thead>\n",
       "    <tr style=\"text-align: right;\">\n",
       "      <th></th>\n",
       "      <th>paid</th>\n",
       "      <th>free</th>\n",
       "    </tr>\n",
       "  </thead>\n",
       "  <tbody>\n",
       "    <tr>\n",
       "      <th>Louvre Museum</th>\n",
       "      <td>5988065</td>\n",
       "      <td>4117897</td>\n",
       "    </tr>\n",
       "    <tr>\n",
       "      <th>Pompidou Centre</th>\n",
       "      <td>2620481</td>\n",
       "      <td>1070337</td>\n",
       "    </tr>\n",
       "  </tbody>\n",
       "</table>\n",
       "</div>"
      ],
      "text/plain": [
       "                    paid     free\n",
       "Louvre Museum    5988065  4117897\n",
       "Pompidou Centre  2620481  1070337"
      ]
     },
     "execution_count": 26,
     "metadata": {},
     "output_type": "execute_result"
    }
   ],
   "source": [
    "museum[museum[\"paid\"] > 2000000]"
   ]
  },
  {
   "cell_type": "code",
   "execution_count": 28,
   "metadata": {},
   "outputs": [
    {
     "data": {
      "text/html": [
       "<div>\n",
       "<style scoped>\n",
       "    .dataframe tbody tr th:only-of-type {\n",
       "        vertical-align: middle;\n",
       "    }\n",
       "\n",
       "    .dataframe tbody tr th {\n",
       "        vertical-align: top;\n",
       "    }\n",
       "\n",
       "    .dataframe thead th {\n",
       "        text-align: right;\n",
       "    }\n",
       "</style>\n",
       "<table border=\"1\" class=\"dataframe\">\n",
       "  <thead>\n",
       "    <tr style=\"text-align: right;\">\n",
       "      <th></th>\n",
       "      <th>paid</th>\n",
       "      <th>free</th>\n",
       "      <th>total</th>\n",
       "    </tr>\n",
       "  </thead>\n",
       "  <tbody>\n",
       "    <tr>\n",
       "      <th>Louvre Museum</th>\n",
       "      <td>5988065</td>\n",
       "      <td>4117897</td>\n",
       "      <td>10105962</td>\n",
       "    </tr>\n",
       "    <tr>\n",
       "      <th>Orsay Museum</th>\n",
       "      <td>1850092</td>\n",
       "      <td>1436132</td>\n",
       "      <td>3286224</td>\n",
       "    </tr>\n",
       "    <tr>\n",
       "      <th>Pompidou Centre</th>\n",
       "      <td>2620481</td>\n",
       "      <td>1070337</td>\n",
       "      <td>3690818</td>\n",
       "    </tr>\n",
       "    <tr>\n",
       "      <th>National Natural History Museum</th>\n",
       "      <td>404497</td>\n",
       "      <td>344572</td>\n",
       "      <td>749069</td>\n",
       "    </tr>\n",
       "  </tbody>\n",
       "</table>\n",
       "</div>"
      ],
      "text/plain": [
       "                                    paid     free     total\n",
       "Louvre Museum                    5988065  4117897  10105962\n",
       "Orsay Museum                     1850092  1436132   3286224\n",
       "Pompidou Centre                  2620481  1070337   3690818\n",
       "National Natural History Museum   404497   344572    749069"
      ]
     },
     "execution_count": 28,
     "metadata": {},
     "output_type": "execute_result"
    }
   ],
   "source": [
    "museum[\"total\"] = museum[\"free\"] + museum[\"paid\"]\n",
    "museum"
   ]
  },
  {
   "cell_type": "code",
   "execution_count": 29,
   "metadata": {},
   "outputs": [
    {
     "data": {
      "text/plain": [
       "17832073"
      ]
     },
     "execution_count": 29,
     "metadata": {},
     "output_type": "execute_result"
    }
   ],
   "source": [
    "museum[\"total\"].sum()"
   ]
  },
  {
   "cell_type": "code",
   "execution_count": 30,
   "metadata": {},
   "outputs": [
    {
     "data": {
      "text/plain": [
       "4458018.25"
      ]
     },
     "execution_count": 30,
     "metadata": {},
     "output_type": "execute_result"
    }
   ],
   "source": [
    "museum[\"total\"].mean()"
   ]
  },
  {
   "cell_type": "code",
   "execution_count": 31,
   "metadata": {},
   "outputs": [
    {
     "data": {
      "text/html": [
       "<div>\n",
       "<style scoped>\n",
       "    .dataframe tbody tr th:only-of-type {\n",
       "        vertical-align: middle;\n",
       "    }\n",
       "\n",
       "    .dataframe tbody tr th {\n",
       "        vertical-align: top;\n",
       "    }\n",
       "\n",
       "    .dataframe thead th {\n",
       "        text-align: right;\n",
       "    }\n",
       "</style>\n",
       "<table border=\"1\" class=\"dataframe\">\n",
       "  <thead>\n",
       "    <tr style=\"text-align: right;\">\n",
       "      <th></th>\n",
       "      <th>name</th>\n",
       "      <th>paid</th>\n",
       "      <th>free</th>\n",
       "    </tr>\n",
       "  </thead>\n",
       "  <tbody>\n",
       "    <tr>\n",
       "      <th>0</th>\n",
       "      <td>Louvre Museum</td>\n",
       "      <td>5988065</td>\n",
       "      <td>4117897</td>\n",
       "    </tr>\n",
       "    <tr>\n",
       "      <th>1</th>\n",
       "      <td>Orsay Museum</td>\n",
       "      <td>1850092</td>\n",
       "      <td>1436132</td>\n",
       "    </tr>\n",
       "    <tr>\n",
       "      <th>2</th>\n",
       "      <td>Pompidou Centre</td>\n",
       "      <td>2620481</td>\n",
       "      <td>1070337</td>\n",
       "    </tr>\n",
       "    <tr>\n",
       "      <th>3</th>\n",
       "      <td>National Natural History Museum</td>\n",
       "      <td>404497</td>\n",
       "      <td>344572</td>\n",
       "    </tr>\n",
       "  </tbody>\n",
       "</table>\n",
       "</div>"
      ],
      "text/plain": [
       "                              name     paid     free\n",
       "0                    Louvre Museum  5988065  4117897\n",
       "1                     Orsay Museum  1850092  1436132\n",
       "2                  Pompidou Centre  2620481  1070337\n",
       "3  National Natural History Museum   404497   344572"
      ]
     },
     "execution_count": 31,
     "metadata": {},
     "output_type": "execute_result"
    }
   ],
   "source": [
    "museums_alternate = pd.read_csv(\"./museums.csv\")\n",
    "museums_alternate"
   ]
  },
  {
   "cell_type": "code",
   "execution_count": 34,
   "metadata": {},
   "outputs": [],
   "source": [
    "museum.to_csv(\"./museum_converted_to_csv.csv\")"
   ]
  },
  {
   "attachments": {},
   "cell_type": "markdown",
   "metadata": {},
   "source": [
    "<h2>SciKit Learn for some ML</h2>"
   ]
  },
  {
   "cell_type": "code",
   "execution_count": 10,
   "metadata": {},
   "outputs": [
    {
     "name": "stdout",
     "output_type": "stream",
     "text": [
      "[[ 0.  0.  5. 13.  9.  1.  0.  0.]\n",
      " [ 0.  0. 13. 15. 10. 15.  5.  0.]\n",
      " [ 0.  3. 15.  2.  0. 11.  8.  0.]\n",
      " [ 0.  4. 12.  0.  0.  8.  8.  0.]\n",
      " [ 0.  5.  8.  0.  0.  9.  8.  0.]\n",
      " [ 0.  4. 11.  0.  1. 12.  7.  0.]\n",
      " [ 0.  2. 14.  5. 10. 12.  0.  0.]\n",
      " [ 0.  0.  6. 13. 10.  0.  0.  0.]]\n",
      "0\n"
     ]
    }
   ],
   "source": [
    "from sklearn.datasets import load_digits\n",
    "\n",
    "digits = load_digits()\n",
    "target = digits.target\n",
    "\n",
    "data = digits.data\n",
    "targets = digits.target\n",
    "\n",
    "print(data[0].reshape((8,8)))\n",
    "print(targets[0])"
   ]
  },
  {
   "attachments": {},
   "cell_type": "markdown",
   "metadata": {},
   "source": [
    "<p>Gaussian Naive Boyes Model</p>"
   ]
  },
  {
   "cell_type": "code",
   "execution_count": 12,
   "metadata": {},
   "outputs": [
    {
     "name": "stdout",
     "output_type": "stream",
     "text": [
      "0.8333333333333334\n"
     ]
    }
   ],
   "source": [
    "from sklearn.datasets import load_digits\n",
    "from sklearn.metrics import accuracy_score\n",
    "from sklearn.model_selection import train_test_split\n",
    "from sklearn.naive_bayes import GaussianNB\n",
    "\n",
    "digit2 = load_digits()\n",
    "\n",
    "data = digits.data\n",
    "targets = digits.target\n",
    "\n",
    "# Split into training and testing sets\n",
    "training_data, testing_data, training_targets, testing_targets = train_test_split(data, targets, random_state=0)\n",
    "\n",
    "# Train the model\n",
    "model = GaussianNB()\n",
    "model.fit(training_data, training_targets)\n",
    "\n",
    "# Run prediction with the testing set\n",
    "predicted_targets = model.predict(testing_data)\n",
    "\n",
    "# Compute the accuracy\n",
    "accuracy = accuracy_score(testing_targets, predicted_targets)\n",
    "print(accuracy)"
   ]
  },
  {
   "attachments": {},
   "cell_type": "markdown",
   "metadata": {},
   "source": [
    "<p>Some sample logic to categorize news groups</p>"
   ]
  },
  {
   "cell_type": "code",
   "execution_count": 14,
   "metadata": {},
   "outputs": [],
   "source": [
    "import pandas as pd\n",
    "from sklearn.datasets import fetch_20newsgroups\n",
    "from sklearn.feature_extraction.text import TfidfVectorizer\n",
    "from sklearn.metrics import accuracy_score, confusion_matrix\n",
    "from sklearn.naive_bayes import MultinomialNB\n",
    "from sklearn.pipeline import make_pipeline\n",
    "\n",
    "\n",
    "# Load some categories of newsgroups dataset\n",
    "categories = [\n",
    "    \"soc.religion.christian\",\n",
    "    \"talk.religion.misc\",\n",
    "    \"comp.sys.mac.hardware\",\n",
    "    \"sci.crypt\"\n",
    "]\n",
    "\n",
    "newsgroups_training = fetch_20newsgroups(\n",
    "    subset='train',\n",
    "    categories=categories,\n",
    "    random_state=0\n",
    ")\n",
    "\n",
    "newsgroups_testing = fetch_20newsgroups(\n",
    "    subset='test', categories=categories, random_state=0\n",
    ")"
   ]
  },
  {
   "cell_type": "code",
   "execution_count": 15,
   "metadata": {},
   "outputs": [
    {
     "data": {
      "text/plain": [
       "\"From: sandvik@newton.apple.com (Kent Sandvik)\\nSubject: Re: Ignorance is BLISS, was Is it good that Jesus died?\\nOrganization: Cookamunga Tourist Bureau\\nLines: 17\\n\\nIn article <f1682Ap@quack.kfu.com>, pharvey@quack.kfu.com (Paul Harvey)\\nwrote:\\n> In article <sandvik-170493104859@sandvik-kent.apple.com> \\n> sandvik@newton.apple.com (Kent Sandvik) writes:\\n> >Ignorance is not bliss!\\n \\n> Ignorance is STRENGTH!\\n> Help spread the TRUTH of IGNORANCE!\\n\\nHuh, if ignorance is strength, then I won't distribute this piece\\nof information if I want to follow your advice (contradiction above).\\n\\n\\nCheers,\\nKent\\n---\\nsandvik@newton.apple.com. ALink: KSAND -- Private activities on the net.\\n\""
      ]
     },
     "execution_count": 15,
     "metadata": {},
     "output_type": "execute_result"
    }
   ],
   "source": [
    "newsgroups_training.data[0]"
   ]
  },
  {
   "attachments": {},
   "cell_type": "markdown",
   "metadata": {},
   "source": [
    "<p>Pipeline</p>"
   ]
  },
  {
   "cell_type": "code",
   "execution_count": 16,
   "metadata": {},
   "outputs": [],
   "source": [
    "# Make the pipeline\n",
    "model = make_pipeline(TfidfVectorizer(), MultinomialNB())"
   ]
  },
  {
   "cell_type": "code",
   "execution_count": 20,
   "metadata": {},
   "outputs": [
    {
     "name": "stdout",
     "output_type": "stream",
     "text": [
      "0.8314685314685315\n",
      "Predicted               comp.sys.mac.hardware  sci.crypt   \n",
      "True                                                       \n",
      "comp.sys.mac.hardware                     354         19  \\\n",
      "sci.crypt                                   3        390   \n",
      "soc.religion.christian                      1          2   \n",
      "talk.religion.misc                          1         19   \n",
      "\n",
      "Predicted               soc.religion.christian  talk.religion.misc  \n",
      "True                                                                \n",
      "comp.sys.mac.hardware                       12                   0  \n",
      "sci.crypt                                    3                   0  \n",
      "soc.religion.christian                     395                   0  \n",
      "talk.religion.misc                         181                  50  \n"
     ]
    }
   ],
   "source": [
    "# Train the model\n",
    "from sklearn.metrics import accuracy_score\n",
    "model.fit(newsgroups_training.data, newsgroups_training.target)\n",
    "\n",
    "#Run prediction with the testing set\n",
    "predicted_targets = model.predict(newsgroups_testing.data)\n",
    "\n",
    "# Compute the accuracy\n",
    "accuracy = accuracy_score(newsgroups_testing.target, predicted_targets)\n",
    "print(accuracy)\n",
    "\n",
    "# Show the confusion matrix\n",
    "confusion = confusion_matrix(newsgroups_testing.target, predicted_targets)\n",
    "confusion_df = pd.DataFrame(confusion, \n",
    "    index = pd.Index(newsgroups_testing.target_names, name=\"True\"),\n",
    "    columns=pd.Index(newsgroups_testing.target_names, name=\"Predicted\")\n",
    ")\n",
    "\n",
    "print(confusion_df)"
   ]
  },
  {
   "attachments": {},
   "cell_type": "markdown",
   "metadata": {},
   "source": [
    "<p>SciKit Learn Model Validation</p>"
   ]
  },
  {
   "cell_type": "code",
   "execution_count": 24,
   "metadata": {},
   "outputs": [
    {
     "name": "stdout",
     "output_type": "stream",
     "text": [
      "[0.78055556 0.78333333 0.79387187 0.8718663  0.80501393]\n",
      "0.8069281956050759\n"
     ]
    }
   ],
   "source": [
    "from sklearn.datasets import load_digits\n",
    "from sklearn.model_selection import cross_val_score\n",
    "from sklearn.naive_bayes import GaussianNB\n",
    "\n",
    "\n",
    "digits = load_digits()\n",
    "\n",
    "data = digits.data\n",
    "targets = digits.target\n",
    "\n",
    "# Create the model\n",
    "model = GaussianNB()\n",
    "\n",
    "# Run cross-validation\n",
    "score = cross_val_score(model, data, targets)\n",
    "\n",
    "print(score)\n",
    "print(score.mean())"
   ]
  },
  {
   "attachments": {},
   "cell_type": "markdown",
   "metadata": {},
   "source": [
    "<h4>Classifying data with Gaussian Naive Bayes</h4>"
   ]
  },
  {
   "cell_type": "code",
   "execution_count": 31,
   "metadata": {},
   "outputs": [
    {
     "name": "stdout",
     "output_type": "stream",
     "text": [
      "Mean of each pixel for the  digit 0:\n",
      "[0.00000000e+00 2.83687943e-02 4.12765957e+00 1.29716312e+01\n",
      " 1.13049645e+01 2.96453901e+00 3.54609929e-02 0.00000000e+00\n",
      " 0.00000000e+00 9.50354610e-01 1.25035461e+01 1.37021277e+01\n",
      " 1.16453901e+01 1.12765957e+01 9.00709220e-01 0.00000000e+00\n",
      " 0.00000000e+00 3.79432624e+00 1.43758865e+01 5.57446809e+00\n",
      " 2.13475177e+00 1.23049645e+01 3.43971631e+00 0.00000000e+00\n",
      " 0.00000000e+00 5.31205674e+00 1.27517730e+01 2.06382979e+00\n",
      " 1.34751773e-01 9.26241135e+00 6.45390071e+00 0.00000000e+00\n",
      " 0.00000000e+00 5.78723404e+00 1.16737589e+01 1.00000000e+00\n",
      " 5.67375887e-02 8.89361702e+00 7.10638298e+00 0.00000000e+00\n",
      " 0.00000000e+00 3.41843972e+00 1.33687943e+01 1.82269504e+00\n",
      " 1.69503546e+00 1.12127660e+01 5.90070922e+00 0.00000000e+00\n",
      " 0.00000000e+00 7.80141844e-01 1.29787234e+01 1.02056738e+01\n",
      " 1.06382979e+01 1.32340426e+01 2.53191489e+00 0.00000000e+00\n",
      " 0.00000000e+00 7.09219858e-03 4.15602837e+00 1.35602837e+01\n",
      " 1.33049645e+01 5.46099291e+00 2.83687943e-01 0.00000000e+00]\n"
     ]
    }
   ],
   "source": [
    "from sklearn.datasets import load_digits\n",
    "from sklearn.model_selection import train_test_split\n",
    "from sklearn.naive_bayes import GaussianNB\n",
    "\n",
    "digits = load_digits()\n",
    "\n",
    "data = digits.data\n",
    "targets = digits.target\n",
    "\n",
    "# Split into training and testing data sets\n",
    "training_data, testing_data, training_targets, testing_targets = train_test_split(data, targets, random_state=0)\n",
    "\n",
    "# Train the model\n",
    "model = GaussianNB()\n",
    "model.fit(training_data, training_targets)\n",
    "\n",
    "# Print the mean and standard deviation of digit 0\n",
    "print(\"Mean of each pixel for the  digit 0:\")\n",
    "print(model.theta_[0])\n",
    "# print(\"Standard deviation of each pixel for the digit 0:\")\n",
    "# print(model.sigma_[0])"
   ]
  },
  {
   "attachments": {},
   "cell_type": "markdown",
   "metadata": {},
   "source": [
    "<h4>Support Vector Machines</h4>"
   ]
  },
  {
   "cell_type": "code",
   "execution_count": 32,
   "metadata": {},
   "outputs": [
    {
     "name": "stdout",
     "output_type": "stream",
     "text": [
      "[0.96111111 0.94444444 0.98328691 0.98885794 0.93871866]\n",
      "0.9632838130609718\n"
     ]
    }
   ],
   "source": [
    "from sklearn.datasets import load_digits\n",
    "from sklearn.model_selection import cross_val_score\n",
    "from sklearn.svm import SVC\n",
    "\n",
    "\n",
    "digits = load_digits()\n",
    "\n",
    "data = digits.data\n",
    "targets = digits.target\n",
    "\n",
    "#Create the model\n",
    "model = SVC()\n",
    "\n",
    "# Run cross validation\n",
    "score = cross_val_score(model, data, targets)\n",
    "\n",
    "print(score)\n",
    "print(score.mean())"
   ]
  },
  {
   "attachments": {},
   "cell_type": "markdown",
   "metadata": {},
   "source": [
    "<h4>Support Vector Machine Parameters </h4>"
   ]
  },
  {
   "cell_type": "code",
   "execution_count": 34,
   "metadata": {},
   "outputs": [
    {
     "name": "stdout",
     "output_type": "stream",
     "text": [
      "Best Params {'C': 10, 'kernel': 'rbf'}\n",
      "Best Score 0.9738502011761063\n"
     ]
    }
   ],
   "source": [
    "from sklearn.datasets import load_digits\n",
    "from sklearn.model_selection import GridSearchCV\n",
    "from sklearn.svm import SVC\n",
    "\n",
    "digits = load_digits()\n",
    "\n",
    "data = digits.data\n",
    "targets = digits.target\n",
    "\n",
    "# Create the grid of parameters\n",
    "param_grid = {\n",
    "    \"C\": [1,10,100,1000],\n",
    "    \"kernel\": [\"linear\",\"poly\", \"rbf\",\"sigmoid\"]\n",
    "}\n",
    "\n",
    "grid = GridSearchCV(SVC(), param_grid)\n",
    "\n",
    "grid.fit(data, targets)\n",
    "\n",
    "print(\"Best Params\", grid.best_params_)\n",
    "print(\"Best Score\", grid.best_score_)"
   ]
  },
  {
   "attachments": {},
   "cell_type": "markdown",
   "metadata": {},
   "source": [
    "<h4>Dumping a trained model</h4>"
   ]
  },
  {
   "cell_type": "code",
   "execution_count": 36,
   "metadata": {},
   "outputs": [
    {
     "data": {
      "text/plain": [
       "['newsgroups_model.joblib']"
      ]
     },
     "execution_count": 36,
     "metadata": {},
     "output_type": "execute_result"
    }
   ],
   "source": [
    "import joblib\n",
    "\n",
    "# Make the pipeline\n",
    "model = make_pipeline(TfidfVectorizer(), MultinomialNB())\n",
    "\n",
    "# Train the model\n",
    "model.fit(newsgroups_training.data, newsgroups_training.target)\n",
    "\n",
    "# Serialize the model and the target names\n",
    "model_file = \"newsgroups_model.joblib\"\n",
    "model_targets_tuple = (model, newsgroups_training.target_names)\n",
    "joblib.dump(model_targets_tuple, model_file)"
   ]
  },
  {
   "attachments": {},
   "cell_type": "markdown",
   "metadata": {},
   "source": [
    "<h4>Loading a dumped trained model</h4>"
   ]
  },
  {
   "cell_type": "code",
   "execution_count": 38,
   "metadata": {},
   "outputs": [
    {
     "ename": "NameError",
     "evalue": "name '__file__' is not defined",
     "output_type": "error",
     "traceback": [
      "\u001b[1;31m---------------------------------------------------------------------------\u001b[0m",
      "\u001b[1;31mNameError\u001b[0m                                 Traceback (most recent call last)",
      "Cell \u001b[1;32mIn[38], line 9\u001b[0m\n\u001b[0;32m      5\u001b[0m \u001b[39mfrom\u001b[39;00m \u001b[39msklearn\u001b[39;00m\u001b[39m.\u001b[39;00m\u001b[39mpipeline\u001b[39;00m \u001b[39mimport\u001b[39;00m Pipeline\n\u001b[0;32m      8\u001b[0m \u001b[39m#Load the model\u001b[39;00m\n\u001b[1;32m----> 9\u001b[0m model_file \u001b[39m=\u001b[39m os\u001b[39m.\u001b[39mpath\u001b[39m.\u001b[39mjoin(os\u001b[39m.\u001b[39mpath\u001b[39m.\u001b[39mdirname(\u001b[39m__file__\u001b[39;49m), \u001b[39m\"\u001b[39m\u001b[39mnewsgroups_model.joblib\u001b[39m\u001b[39m\"\u001b[39m)\n\u001b[0;32m     10\u001b[0m loaded_model: Tuple[Pipeline, List[\u001b[39mstr\u001b[39m]] \u001b[39m=\u001b[39m joblib\u001b[39m.\u001b[39mload(model_file)\n\u001b[0;32m     12\u001b[0m model, targets \u001b[39m=\u001b[39m loaded_model\n",
      "\u001b[1;31mNameError\u001b[0m: name '__file__' is not defined"
     ]
    }
   ],
   "source": [
    "import os\n",
    "from typing import List, Tuple\n",
    "\n",
    "import joblib\n",
    "from sklearn.pipeline import Pipeline\n",
    "\n",
    "\n",
    "#Load the model\n",
    "model_file = os.path.join(os.path.dirname(__file__), \"newsgroups_model.joblib\")\n",
    "loaded_model: Tuple[Pipeline, List[str]] = joblib.load(model_file)\n",
    "\n",
    "model, targets = loaded_model\n",
    "\n",
    "# Run a prediction\n",
    "p = model.predict([\"computer cpu memory ram\"])\n",
    "print(targets[p[0]])"
   ]
  }
 ],
 "metadata": {
  "kernelspec": {
   "display_name": "datascience_in_fastapi",
   "language": "python",
   "name": "python3"
  },
  "language_info": {
   "codemirror_mode": {
    "name": "ipython",
    "version": 3
   },
   "file_extension": ".py",
   "mimetype": "text/x-python",
   "name": "python",
   "nbconvert_exporter": "python",
   "pygments_lexer": "ipython3",
   "version": "3.11.3"
  },
  "orig_nbformat": 4
 },
 "nbformat": 4,
 "nbformat_minor": 2
}
